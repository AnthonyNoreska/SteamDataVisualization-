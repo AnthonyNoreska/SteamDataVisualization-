{
 "cells": [
  {
   "cell_type": "code",
   "execution_count": 1,
   "id": "4c64fbb9",
   "metadata": {},
   "outputs": [
    {
     "ename": "ModuleNotFoundError",
     "evalue": "No module named 'splinter'",
     "output_type": "error",
     "traceback": [
      "\u001b[1;31m---------------------------------------------------------------------------\u001b[0m",
      "\u001b[1;31mModuleNotFoundError\u001b[0m                       Traceback (most recent call last)",
      "Cell \u001b[1;32mIn[1], line 2\u001b[0m\n\u001b[0;32m      1\u001b[0m \u001b[38;5;66;03m# Import Splinter and BeautifulSoup\u001b[39;00m\n\u001b[1;32m----> 2\u001b[0m \u001b[38;5;28;01mfrom\u001b[39;00m \u001b[38;5;21;01msplinter\u001b[39;00m \u001b[38;5;28;01mimport\u001b[39;00m Browser\n\u001b[0;32m      3\u001b[0m \u001b[38;5;28;01mfrom\u001b[39;00m \u001b[38;5;21;01mbs4\u001b[39;00m \u001b[38;5;28;01mimport\u001b[39;00m BeautifulSoup \u001b[38;5;28;01mas\u001b[39;00m soup\n\u001b[0;32m      4\u001b[0m \u001b[38;5;28;01mfrom\u001b[39;00m \u001b[38;5;21;01mselenium\u001b[39;00m \u001b[38;5;28;01mimport\u001b[39;00m webdriver\n",
      "\u001b[1;31mModuleNotFoundError\u001b[0m: No module named 'splinter'"
     ]
    }
   ],
   "source": [
    "# Import Splinter and BeautifulSoup\n",
    "from splinter import Browser\n",
    "from bs4 import BeautifulSoup as soup\n",
    "from selenium import webdriver\n",
    "from selenium.webdriver.support.ui import Select\n",
    "import matplotlib.pyplot as plt\n",
    "import pandas as pd\n",
    "import time\n",
    "import requests\n",
    "import json\n"
   ]
  },
  {
   "cell_type": "markdown",
   "id": "9ea5db64",
   "metadata": {},
   "source": [
    "# Part 1: Automated Web Scraping utility to pull data from steam charts "
   ]
  },
  {
   "cell_type": "code",
   "execution_count": 2,
   "id": "9fe12f57",
   "metadata": {},
   "outputs": [],
   "source": [
    "browser = Browser('chrome')"
   ]
  },
  {
   "cell_type": "code",
   "execution_count": 3,
   "id": "d196ccd0",
   "metadata": {},
   "outputs": [],
   "source": [
    "# Visit the website\n",
    "# https://store.steampowered.com/charts/topselling/CA\n",
    "url = \"https://store.steampowered.com/charts/topselling/CA\"\n",
    "browser.visit(url)"
   ]
  },
  {
   "cell_type": "code",
   "execution_count": 4,
   "id": "9865b725",
   "metadata": {},
   "outputs": [],
   "source": [
    "#Create a list to store the countries\n",
    "country_list = ['Global','Canada','Japan','China','United Kingdom','France']"
   ]
  },
  {
   "cell_type": "code",
   "execution_count": 5,
   "id": "3e47e85f",
   "metadata": {},
   "outputs": [],
   "source": [
    "# Create an empty dictionary to hold game names for each country\n",
    "game_names_by_country = {country: [] for country in country_list}"
   ]
  },
  {
   "cell_type": "code",
   "execution_count": 6,
   "id": "2e4cae7c",
   "metadata": {},
   "outputs": [],
   "source": [
    "# Loop through the country list\n",
    "\n",
    "for country in country_list:\n",
    "    \n",
    "    # Simulating dropdown selection in the browser\n",
    "    dropdown_container = browser.find_by_css('.DialogDropDown').first\n",
    "    dropdown_container.click()\n",
    "    \n",
    "    # Click on the specific country in the dropdown list\n",
    "    country_option = browser.find_by_xpath(f\"//div[text()='{country}']\").first\n",
    "    country_option.click()\n",
    "    \n",
    "    time.sleep(2)\n",
    "        \n",
    "    html = browser.html\n",
    "    \n",
    "    soup_obj = soup(html, 'html.parser')\n",
    "    \n",
    "    # Extract game elements for the specified country\n",
    "    game_elements = soup_obj.find_all('div', class_='weeklytopsellers_GameName_1n_4-')\n",
    "    \n",
    "    # Add extracted game names to the corresponding country's list\n",
    "    for game in game_elements:\n",
    "        game_names_by_country[country].append(game.text.strip())\n"
   ]
  },
  {
   "cell_type": "code",
   "execution_count": 7,
   "id": "fab98c1a",
   "metadata": {},
   "outputs": [],
   "source": [
    "# Creating a dictionary to organize game data by country\n",
    "\n",
    "data = {'Country': [], 'GameNames': []}\n",
    "for country, games in game_names_by_country.items():\n",
    "    data['Country'].extend([country] * len(games))\n",
    "    data['GameNames'].extend(games)"
   ]
  },
  {
   "cell_type": "code",
   "execution_count": 8,
   "id": "0872f3ea",
   "metadata": {},
   "outputs": [
    {
     "data": {
      "text/html": [
       "<div>\n",
       "<style scoped>\n",
       "    .dataframe tbody tr th:only-of-type {\n",
       "        vertical-align: middle;\n",
       "    }\n",
       "\n",
       "    .dataframe tbody tr th {\n",
       "        vertical-align: top;\n",
       "    }\n",
       "\n",
       "    .dataframe thead th {\n",
       "        text-align: right;\n",
       "    }\n",
       "</style>\n",
       "<table border=\"1\" class=\"dataframe\">\n",
       "  <thead>\n",
       "    <tr style=\"text-align: right;\">\n",
       "      <th></th>\n",
       "      <th>Country</th>\n",
       "      <th>GameNames</th>\n",
       "    </tr>\n",
       "  </thead>\n",
       "  <tbody>\n",
       "    <tr>\n",
       "      <th>0</th>\n",
       "      <td>Global</td>\n",
       "      <td>Steam Deck</td>\n",
       "    </tr>\n",
       "    <tr>\n",
       "      <th>1</th>\n",
       "      <td>Global</td>\n",
       "      <td>Lethal Company</td>\n",
       "    </tr>\n",
       "    <tr>\n",
       "      <th>2</th>\n",
       "      <td>Global</td>\n",
       "      <td>Counter-Strike 2</td>\n",
       "    </tr>\n",
       "    <tr>\n",
       "      <th>3</th>\n",
       "      <td>Global</td>\n",
       "      <td>PUBG: BATTLEGROUNDS</td>\n",
       "    </tr>\n",
       "    <tr>\n",
       "      <th>4</th>\n",
       "      <td>Global</td>\n",
       "      <td>Call of Duty®</td>\n",
       "    </tr>\n",
       "    <tr>\n",
       "      <th>...</th>\n",
       "      <td>...</td>\n",
       "      <td>...</td>\n",
       "    </tr>\n",
       "    <tr>\n",
       "      <th>595</th>\n",
       "      <td>France</td>\n",
       "      <td>Icarus: New Frontiers Expansion</td>\n",
       "    </tr>\n",
       "    <tr>\n",
       "      <th>596</th>\n",
       "      <td>France</td>\n",
       "      <td>Sea of Thieves 2023 Edition</td>\n",
       "    </tr>\n",
       "    <tr>\n",
       "      <th>597</th>\n",
       "      <td>France</td>\n",
       "      <td>Microsoft Flight Simulator 40th Anniversary Ed...</td>\n",
       "    </tr>\n",
       "    <tr>\n",
       "      <th>598</th>\n",
       "      <td>France</td>\n",
       "      <td>Raft</td>\n",
       "    </tr>\n",
       "    <tr>\n",
       "      <th>599</th>\n",
       "      <td>France</td>\n",
       "      <td>The Elder Scrolls V: Skyrim Special Edition</td>\n",
       "    </tr>\n",
       "  </tbody>\n",
       "</table>\n",
       "<p>600 rows × 2 columns</p>\n",
       "</div>"
      ],
      "text/plain": [
       "    Country                                          GameNames\n",
       "0    Global                                         Steam Deck\n",
       "1    Global                                     Lethal Company\n",
       "2    Global                                   Counter-Strike 2\n",
       "3    Global                                PUBG: BATTLEGROUNDS\n",
       "4    Global                                      Call of Duty®\n",
       "..      ...                                                ...\n",
       "595  France                    Icarus: New Frontiers Expansion\n",
       "596  France                        Sea of Thieves 2023 Edition\n",
       "597  France  Microsoft Flight Simulator 40th Anniversary Ed...\n",
       "598  France                                               Raft\n",
       "599  France        The Elder Scrolls V: Skyrim Special Edition\n",
       "\n",
       "[600 rows x 2 columns]"
      ]
     },
     "execution_count": 8,
     "metadata": {},
     "output_type": "execute_result"
    }
   ],
   "source": [
    "df = pd.DataFrame(data)\n",
    "df"
   ]
  },
  {
   "cell_type": "code",
   "execution_count": 10,
   "id": "f04fc4c9",
   "metadata": {},
   "outputs": [],
   "source": [
    "# Adding an 'Index' column that counts the games for each country\n",
    "df['Index'] = df.groupby('Country').cumcount() + 1\n"
   ]
  },
  {
   "cell_type": "code",
   "execution_count": 11,
   "id": "dedb8b4f",
   "metadata": {},
   "outputs": [],
   "source": [
    "sorted_data = df.sort_values(by=['Country', 'Index'])\n"
   ]
  },
  {
   "cell_type": "code",
   "execution_count": 12,
   "id": "c59c0ead",
   "metadata": {},
   "outputs": [
    {
     "data": {
      "text/html": [
       "<div>\n",
       "<style scoped>\n",
       "    .dataframe tbody tr th:only-of-type {\n",
       "        vertical-align: middle;\n",
       "    }\n",
       "\n",
       "    .dataframe tbody tr th {\n",
       "        vertical-align: top;\n",
       "    }\n",
       "\n",
       "    .dataframe thead th {\n",
       "        text-align: right;\n",
       "    }\n",
       "</style>\n",
       "<table border=\"1\" class=\"dataframe\">\n",
       "  <thead>\n",
       "    <tr style=\"text-align: right;\">\n",
       "      <th></th>\n",
       "      <th>Country</th>\n",
       "      <th>GameNames</th>\n",
       "      <th>Index</th>\n",
       "    </tr>\n",
       "  </thead>\n",
       "  <tbody>\n",
       "    <tr>\n",
       "      <th>100</th>\n",
       "      <td>Canada</td>\n",
       "      <td>Steam Deck</td>\n",
       "      <td>1</td>\n",
       "    </tr>\n",
       "    <tr>\n",
       "      <th>101</th>\n",
       "      <td>Canada</td>\n",
       "      <td>Lethal Company</td>\n",
       "      <td>2</td>\n",
       "    </tr>\n",
       "    <tr>\n",
       "      <th>102</th>\n",
       "      <td>Canada</td>\n",
       "      <td>Counter-Strike 2</td>\n",
       "      <td>3</td>\n",
       "    </tr>\n",
       "    <tr>\n",
       "      <th>103</th>\n",
       "      <td>Canada</td>\n",
       "      <td>Call of Duty®</td>\n",
       "      <td>4</td>\n",
       "    </tr>\n",
       "    <tr>\n",
       "      <th>104</th>\n",
       "      <td>Canada</td>\n",
       "      <td>Baldur's Gate 3</td>\n",
       "      <td>5</td>\n",
       "    </tr>\n",
       "    <tr>\n",
       "      <th>...</th>\n",
       "      <td>...</td>\n",
       "      <td>...</td>\n",
       "      <td>...</td>\n",
       "    </tr>\n",
       "    <tr>\n",
       "      <th>495</th>\n",
       "      <td>United Kingdom</td>\n",
       "      <td>Train Simulator Classic</td>\n",
       "      <td>96</td>\n",
       "    </tr>\n",
       "    <tr>\n",
       "      <th>496</th>\n",
       "      <td>United Kingdom</td>\n",
       "      <td>STAR WARS™: The Old Republic™</td>\n",
       "      <td>97</td>\n",
       "    </tr>\n",
       "    <tr>\n",
       "      <th>497</th>\n",
       "      <td>United Kingdom</td>\n",
       "      <td>Disney Dreamlight Valley - Ultimate Edition</td>\n",
       "      <td>98</td>\n",
       "    </tr>\n",
       "    <tr>\n",
       "      <th>498</th>\n",
       "      <td>United Kingdom</td>\n",
       "      <td>Microsoft Flight Simulator 40th Anniversary Ed...</td>\n",
       "      <td>99</td>\n",
       "    </tr>\n",
       "    <tr>\n",
       "      <th>499</th>\n",
       "      <td>United Kingdom</td>\n",
       "      <td>Dragon's Dogma: Dark Arisen</td>\n",
       "      <td>100</td>\n",
       "    </tr>\n",
       "  </tbody>\n",
       "</table>\n",
       "<p>600 rows × 3 columns</p>\n",
       "</div>"
      ],
      "text/plain": [
       "            Country                                          GameNames  Index\n",
       "100          Canada                                         Steam Deck      1\n",
       "101          Canada                                     Lethal Company      2\n",
       "102          Canada                                   Counter-Strike 2      3\n",
       "103          Canada                                      Call of Duty®      4\n",
       "104          Canada                                    Baldur's Gate 3      5\n",
       "..              ...                                                ...    ...\n",
       "495  United Kingdom                            Train Simulator Classic     96\n",
       "496  United Kingdom                      STAR WARS™: The Old Republic™     97\n",
       "497  United Kingdom        Disney Dreamlight Valley - Ultimate Edition     98\n",
       "498  United Kingdom  Microsoft Flight Simulator 40th Anniversary Ed...     99\n",
       "499  United Kingdom                        Dragon's Dogma: Dark Arisen    100\n",
       "\n",
       "[600 rows x 3 columns]"
      ]
     },
     "execution_count": 12,
     "metadata": {},
     "output_type": "execute_result"
    }
   ],
   "source": [
    "sorted_data"
   ]
  },
  {
   "cell_type": "code",
   "execution_count": 14,
   "id": "6b1ace6e",
   "metadata": {},
   "outputs": [],
   "source": [
    "# Create a DataFrame to store the top 10 games for each country\n",
    "top_10_per_country = df.groupby('Country').head(10)\n",
    "\n",
    "# Save the DataFrame to a CSV file\n",
    "top_10_per_country.to_csv('top_10_games_per_country.csv', index=False)"
   ]
  },
  {
   "cell_type": "markdown",
   "id": "e962839e",
   "metadata": {},
   "source": [
    "# Part 2: API calls to steamspy to retrieve games based on genre"
   ]
  },
  {
   "cell_type": "code",
   "execution_count": 21,
   "id": "d1ac0294",
   "metadata": {},
   "outputs": [],
   "source": [
    "# Define the base URL for the Steam Spy API\n",
    "base_url = \"https://steamspy.com/api.php\"\n"
   ]
  },
  {
   "cell_type": "code",
   "execution_count": 22,
   "id": "e863937f",
   "metadata": {},
   "outputs": [],
   "source": [
    "# List of genres to analyze\n",
    "genres = [\"Action\", \"Strategy\", \"RPG\", \"Indie\", \"Adventure\", \"Sports\", \"Simulation\"]"
   ]
  },
  {
   "cell_type": "code",
   "execution_count": 23,
   "id": "a5c2ef94",
   "metadata": {},
   "outputs": [],
   "source": [
    "# Create an empty dictionary to store data for each genre\n",
    "genre_data = {}"
   ]
  },
  {
   "cell_type": "code",
   "execution_count": 24,
   "id": "a3ccdce3",
   "metadata": {},
   "outputs": [
    {
     "name": "stdout",
     "output_type": "stream",
     "text": [
      "DataFrame for Action:\n",
      "Empty DataFrame\n",
      "Columns: []\n",
      "Index: []\n",
      "\n",
      "\n",
      "DataFrame for Strategy:\n",
      "Empty DataFrame\n",
      "Columns: []\n",
      "Index: []\n",
      "\n",
      "\n",
      "DataFrame for RPG:\n",
      "Empty DataFrame\n",
      "Columns: []\n",
      "Index: []\n",
      "\n",
      "\n",
      "DataFrame for Indie:\n",
      "Empty DataFrame\n",
      "Columns: []\n",
      "Index: []\n",
      "\n",
      "\n",
      "DataFrame for Adventure:\n",
      "Empty DataFrame\n",
      "Columns: []\n",
      "Index: []\n",
      "\n",
      "\n",
      "DataFrame for Sports:\n",
      "Empty DataFrame\n",
      "Columns: []\n",
      "Index: []\n",
      "\n",
      "\n",
      "DataFrame for Simulation:\n",
      "Empty DataFrame\n",
      "Columns: []\n",
      "Index: []\n",
      "\n",
      "\n"
     ]
    }
   ],
   "source": [
    "# Make API requests for each genre and store the retrieved data\n",
    "for genre in genres:\n",
    "    params = {\n",
    "        \"request\": \"genre\",\n",
    "        \"genre\": genre\n",
    "    }\n",
    "    \n",
    "    # Make the GET request to the API\n",
    "    response = requests.get(base_url, params=params)\n",
    "    \n",
    "    if response.status_code == 200:\n",
    "        # Store the retrieved data in the dictionary using the genre as the key\n",
    "        genre_data[genre] = response.json()\n",
    "    else:\n",
    "        print(f\"Failed to fetch data for {genre}. Status code:\", response.status_code)\n",
    "\n",
    "# Convert the retrieved data for each genre into Pandas DataFrames\n",
    "genre_dataframes = {}\n",
    "for genre, data in genre_data.items():\n",
    "    # Convert the data for each genre into a DataFrame\n",
    "    genre_dataframes[genre] = pd.DataFrame.from_dict(data, orient='index')\n",
    "\n",
    "# Access and manipulate the dataframes for each genre\n",
    "for genre, df in genre_dataframes.items():\n",
    "    print(f\"DataFrame for {genre}:\")\n",
    "    print(df.head())  # Display the first few rows of each DataFrame\n",
    "    print(\"\\n\")\n"
   ]
  },
  {
   "cell_type": "code",
   "execution_count": 19,
   "id": "c6484cb2",
   "metadata": {},
   "outputs": [
    {
     "name": "stdout",
     "output_type": "stream",
     "text": [
      "DataFrame for Action is empty.\n",
      "DataFrame for Strategy is empty.\n",
      "DataFrame for RPG is empty.\n",
      "DataFrame for Indie is empty.\n",
      "DataFrame for Adventure is empty.\n",
      "DataFrame for Sports is empty.\n",
      "DataFrame for Simulation is empty.\n"
     ]
    }
   ],
   "source": [
    "# Convert price column from cents to dollars\n",
    "for genre, df in genre_dataframes.items():\n",
    "    price_columns = ['price', 'initialprice']  \n",
    "\n",
    "    if not df.empty:\n",
    "        # Check if the specified columns exist in the DataFrame\n",
    "        valid_columns = [col for col in price_columns if col in df.columns]\n",
    "\n",
    "        if valid_columns:\n",
    "            # Convert each valid price column from string to numeric type (\n",
    "            for col in valid_columns:\n",
    "                df[col] = pd.to_numeric(df[col], errors='coerce')  # Convert strings to numeric values\n",
    "\n",
    "            # Perform division by 100 to convert from cents to dollars\n",
    "            df[valid_columns] = df[valid_columns] / 100  # Division by 100 for cents to dollars\n",
    "            \n",
    "            # Dropping columns with null values\n",
    "            df.dropna(inplace=True) \n",
    "\n",
    "            # Export the modified DataFrame to a CSV file\n",
    "            df.to_csv(f'{genre}_data_converted.csv', index=False)\n",
    "        else:\n",
    "            print(f\"No valid price columns found in DataFrame for {genre}.\")\n",
    "    else:\n",
    "        print(f\"DataFrame for {genre} is empty.\")\n"
   ]
  },
  {
   "cell_type": "code",
   "execution_count": null,
   "id": "70c57b22",
   "metadata": {},
   "outputs": [],
   "source": [
    "genre_dataframes['Indie']"
   ]
  },
  {
   "cell_type": "code",
   "execution_count": null,
   "id": "73520392",
   "metadata": {},
   "outputs": [],
   "source": []
  },
  {
   "cell_type": "markdown",
   "id": "f9e7eba0",
   "metadata": {},
   "source": [
    "# Part 3: Dataset manipulation"
   ]
  },
  {
   "cell_type": "markdown",
   "id": "b51d2a29",
   "metadata": {},
   "source": [
    "# Total CCU by Genre:\n"
   ]
  },
  {
   "cell_type": "code",
   "execution_count": null,
   "id": "3e2a89ff",
   "metadata": {},
   "outputs": [],
   "source": [
    "# Create a function to calculate total concurrent players\n",
    "def calculate_total_ccu(df):\n",
    "    total_ccu = df['ccu'].sum()\n",
    "    print(f\"Total CCU for the DataFrame:\\n{total_ccu}\")\n",
    "    print(f\"CCU values for the DataFrame:\\n{df['ccu']}\")\n",
    "    return total_ccu\n"
   ]
  },
  {
   "cell_type": "code",
   "execution_count": null,
   "id": "676a67d6",
   "metadata": {},
   "outputs": [],
   "source": [
    "total_ccu_Action = calculate_total_ccu(genre_dataframes[\"Action\"])"
   ]
  },
  {
   "cell_type": "code",
   "execution_count": null,
   "id": "e7ac67b4",
   "metadata": {},
   "outputs": [],
   "source": [
    "total_ccu_per_genre = []\n",
    "\n",
    "for genre in genres:\n",
    "         if valid_columns:\n",
    "            total_ccu = calculate_total_ccu(genre_dataframes[genre])\n",
    "            total_ccu_per_genre.append(total_ccu)"
   ]
  },
  {
   "cell_type": "code",
   "execution_count": null,
   "id": "d8c14e8a",
   "metadata": {},
   "outputs": [],
   "source": [
    "total_ccu_per_genre"
   ]
  },
  {
   "cell_type": "code",
   "execution_count": null,
   "id": "4c5200f0",
   "metadata": {},
   "outputs": [],
   "source": [
    "genre_totals = pd.DataFrame({\n",
    "    'Genre': genres,\n",
    "    'Total_Concurrent_Users': total_ccu_per_genre\n",
    "})\n",
    "genre_totals"
   ]
  },
  {
   "cell_type": "code",
   "execution_count": null,
   "id": "caa250b8",
   "metadata": {},
   "outputs": [],
   "source": [
    "genre_totals.to_csv('genre_totals.csv')\n"
   ]
  },
  {
   "cell_type": "markdown",
   "id": "e294ee77",
   "metadata": {},
   "source": [
    "# Positive-to-Negative Reviews Ratio:"
   ]
  },
  {
   "cell_type": "code",
   "execution_count": null,
   "id": "fb95996a",
   "metadata": {},
   "outputs": [],
   "source": [
    "# Create a function to calculate the review ratio\n",
    "\n",
    "def calculate_review_ratio(df):\n",
    "    df['Reviews_Ratio'] = df['positive'] / df['negative'].replace(0, 1)\n",
    "    return df\n"
   ]
  },
  {
   "cell_type": "code",
   "execution_count": null,
   "id": "07591beb",
   "metadata": {},
   "outputs": [],
   "source": [
    "for genre, df in genre_dataframes.items():\n",
    "    if not df.empty:\n",
    "        genre_dataframes[genre] = calculate_review_ratio(df)"
   ]
  },
  {
   "cell_type": "code",
   "execution_count": null,
   "id": "6e6f897e",
   "metadata": {},
   "outputs": [],
   "source": [
    "genre_reviews_ratios = {}\n",
    "for genre, df in genre_dataframes.items():\n",
    "    if not df.empty:\n",
    "        genre_reviews_ratios[genre] = {\n",
    "            'Mean_Ratio': df['Reviews_Ratio'].mean(),\n",
    "            'Median_Ratio': df['Reviews_Ratio'].median()\n",
    "        }"
   ]
  },
  {
   "cell_type": "code",
   "execution_count": null,
   "id": "91480d24",
   "metadata": {},
   "outputs": [],
   "source": [
    "genre_reviews_ratios_df = pd.DataFrame(genre_reviews_ratios).transpose()\n"
   ]
  },
  {
   "cell_type": "code",
   "execution_count": null,
   "id": "44839bfd",
   "metadata": {},
   "outputs": [],
   "source": [
    "genre_reviews_ratios_df['Mean_Ratio'] = genre_reviews_ratios_df['Mean_Ratio'].round(2)\n",
    "genre_reviews_ratios_df['Median_Ratio'] = genre_reviews_ratios_df['Median_Ratio'].round(2)"
   ]
  },
  {
   "cell_type": "code",
   "execution_count": null,
   "id": "29ccba1f",
   "metadata": {},
   "outputs": [],
   "source": [
    "genre_reviews_ratios_df\n"
   ]
  },
  {
   "cell_type": "code",
   "execution_count": null,
   "id": "e9bf9ea2",
   "metadata": {},
   "outputs": [],
   "source": [
    "genre_reviews_ratios_df.to_csv('genre_reviews_ratios.csv')\n"
   ]
  },
  {
   "cell_type": "markdown",
   "id": "01405573",
   "metadata": {},
   "source": [
    "# Ownership Distribution by Genre:\n"
   ]
  },
  {
   "cell_type": "code",
   "execution_count": null,
   "id": "588fc6e0",
   "metadata": {},
   "outputs": [],
   "source": [
    "# Establish ownership buckets\n",
    "ownership_buckets = [\n",
    "    (0, 20000),\n",
    "    (20000, 50000),\n",
    "    (50000, 100000),\n",
    "    (100000, 200000),\n",
    "    (200000, 500000),\n",
    "    (500000, 1000000),\n",
    "    (1000000, 2000000),\n",
    "    (2000000, 5000000),\n",
    "    (5000000, 10000000),\n",
    "    (10000000, 20000000),\n",
    "    (20000000, 50000000),\n",
    "    (50000000, 100000000)\n",
    "]"
   ]
  },
  {
   "cell_type": "code",
   "execution_count": null,
   "id": "23af2e39",
   "metadata": {},
   "outputs": [],
   "source": [
    "# Clean 'owners' column and extract numerical values\n",
    "df['owners'] = df['owners'].str.replace(',', '')  # Remove commas\n",
    "df['owners'] = df['owners'].str.replace(' .. ', '-')  # Replace '..' with '-'\n",
    "\n",
    "# Extract representative values from ranges (midpoint for simplicity)\n",
    "df['owners'] = df['owners'].apply(lambda x: sum(map(int, x.split('-'))) / 2 if '-' in x else int(x) if x.isdigit() else 0)\n",
    "\n",
    "# Convert the 'owners' column to integer type\n",
    "df['owners'] = df['owners'].astype(int)"
   ]
  },
  {
   "cell_type": "code",
   "execution_count": null,
   "id": "483676cb",
   "metadata": {},
   "outputs": [],
   "source": [
    "# Clean 'owners' column and extract numerical values for Simulation DataFrame\n",
    "genre_dataframes['Simulation']['owners'] = genre_dataframes['Simulation']['owners'].str.replace(',', '')  # Remove commas\n",
    "genre_dataframes['Simulation']['owners'] = genre_dataframes['Simulation']['owners'].str.replace(' .. ', '-')  # Replace '..' with '-'\n",
    "\n",
    "# Extract representative values from ranges (midpoint for simplicity)\n",
    "genre_dataframes['Simulation']['owners'] = genre_dataframes['Simulation']['owners'].apply(lambda x: sum(map(int, x.split('-'))) / 2 if '-' in x else int(x) if x.isdigit() else 0)\n",
    "\n",
    "# Convert the 'owners' column to integer type\n",
    "genre_dataframes['Simulation']['owners'] = genre_dataframes['Simulation']['owners'].astype(int)\n"
   ]
  },
  {
   "cell_type": "code",
   "execution_count": null,
   "id": "d8cdd722",
   "metadata": {},
   "outputs": [],
   "source": [
    "# Create a DataFrame to store ownership distribution by genre\n",
    "ownership_distribution_by_genre = pd.DataFrame(columns=['Genre'] + [f'Ownership_{i[0]}_{i[1]}' for i in ownership_buckets])\n",
    "\n",
    "\n"
   ]
  },
  {
   "cell_type": "code",
   "execution_count": null,
   "id": "221a6860",
   "metadata": {},
   "outputs": [],
   "source": [
    "# Create an empty list to store dictionaries for each genre's ownership counts\n",
    "genre_bucket_counts_list = []\n",
    "\n",
    "# Loop through each genre DataFrame and calculate bucket counts\n",
    "for genre, df in genre_dataframes.items():\n",
    "    print(f\"Data type before loop iteration for {genre}: {df['owners'].dtype}\")\n",
    "    \n",
    "    bucket_counts = {f'Ownership_{i[0]}_{i[1]}': 0 for i in ownership_buckets}\n",
    "\n",
    "    # Calculate counts of games falling into each ownership bucket for the current genre\n",
    "    for bucket_range in ownership_buckets:\n",
    "        lower_limit, upper_limit = bucket_range\n",
    "        games_in_bucket = df[(df['owners'] >= lower_limit) & (df['owners'] < upper_limit)]\n",
    "        bucket_counts[f'Ownership_{lower_limit}_{upper_limit}'] = len(games_in_bucket)\n",
    "    \n",
    "    print(f\"Data type after loop iteration for {genre}: {df['owners'].dtype}\")\n",
    "    \n",
    "    # Append the dictionary of bucket counts for the current genre to the list\n",
    "    genre_bucket_counts_list.append({'Genre': genre, **bucket_counts})\n",
    "\n",
    "# Convert the list of dictionaries to a DataFrame\n",
    "ownership_distribution_by_genre = pd.DataFrame(genre_bucket_counts_list)\n"
   ]
  },
  {
   "cell_type": "code",
   "execution_count": null,
   "id": "fa98e75b",
   "metadata": {},
   "outputs": [],
   "source": [
    "ownership_distribution_by_genre"
   ]
  },
  {
   "cell_type": "code",
   "execution_count": null,
   "id": "1b7833a1",
   "metadata": {},
   "outputs": [],
   "source": [
    "ownership_distribution_by_genre.to_csv('ownership_distribution.csv')\n"
   ]
  },
  {
   "cell_type": "markdown",
   "id": "ab543b60",
   "metadata": {},
   "source": [
    "# Number of Concurrent Users to price ratio\n"
   ]
  },
  {
   "cell_type": "code",
   "execution_count": 20,
   "id": "830c2221",
   "metadata": {},
   "outputs": [
    {
     "name": "stdout",
     "output_type": "stream",
     "text": [
      "Merged dataset created and duplicates removed.\n"
     ]
    }
   ],
   "source": [
    "# List of CSV files\n",
    "csv_files = [\n",
    "    \"Action_data_converted.csv\",\n",
    "    \"Adventure_data_converted.csv\",\n",
    "    \"Indie_data_converted.csv\",\n",
    "    \"RPG_data_converted.csv\",\n",
    "    \"Simulation_data_converted.csv\",\n",
    "    \"Sports_data_converted.csv\",\n",
    "    \"Strategy_data_converted.csv\"\n",
    "]\n",
    "\n",
    "# Read each CSV file into a DataFrame\n",
    "data_frames = [pd.read_csv(file) for file in csv_files]\n",
    "\n",
    "# Merge all DataFrames into one\n",
    "merged_data = pd.concat(data_frames, ignore_index=True)\n",
    "\n",
    "# Remove duplicates\n",
    "merged_data.drop_duplicates(inplace=True)\n",
    "\n",
    "# Save the merged and deduplicated DataFrame to a new CSV file\n",
    "merged_data.to_csv(\"merged_dataset.csv\", index=False)\n",
    "\n",
    "print(\"Merged dataset created and duplicates removed.\")\n"
   ]
  },
  {
   "cell_type": "code",
   "execution_count": 2,
   "id": "7e41826b",
   "metadata": {},
   "outputs": [
    {
     "ename": "NameError",
     "evalue": "name 'merged_data' is not defined",
     "output_type": "error",
     "traceback": [
      "\u001b[1;31m---------------------------------------------------------------------------\u001b[0m",
      "\u001b[1;31mNameError\u001b[0m                                 Traceback (most recent call last)",
      "Cell \u001b[1;32mIn[2], line 2\u001b[0m\n\u001b[0;32m      1\u001b[0m \u001b[38;5;66;03m# Save and calculate the dataset.\u001b[39;00m\n\u001b[1;32m----> 2\u001b[0m df \u001b[38;5;241m=\u001b[39m merged_data\n\u001b[0;32m      4\u001b[0m df[\u001b[38;5;124m'\u001b[39m\u001b[38;5;124mccu_per_price\u001b[39m\u001b[38;5;124m'\u001b[39m] \u001b[38;5;241m=\u001b[39m df[\u001b[38;5;124m'\u001b[39m\u001b[38;5;124mprice\u001b[39m\u001b[38;5;124m'\u001b[39m] \u001b[38;5;241m/\u001b[39m df[\u001b[38;5;124m'\u001b[39m\u001b[38;5;124mccu\u001b[39m\u001b[38;5;124m'\u001b[39m]\u001b[38;5;241m.\u001b[39mreplace({\u001b[38;5;241m0\u001b[39m: \u001b[38;5;241m1\u001b[39m})\n\u001b[0;32m      6\u001b[0m \u001b[38;5;66;03m# Create Data frame to simplify the work.\u001b[39;00m\n",
      "\u001b[1;31mNameError\u001b[0m: name 'merged_data' is not defined"
     ]
    }
   ],
   "source": [
    "# Save and calculate the dataset.\n",
    "df = merged_data\n",
    "\n",
    "df['ccu_per_price'] = df['price'] / df['ccu'].replace({0: 1})\n",
    "\n",
    "# Create Data frame to simplify the work.\n",
    "df = pd.DataFrame(merged_data)\n",
    "\n",
    "# Create a new DataFrame with only 'name', 'price', and 'ccu'\n",
    "selected_columns = ['name', 'initialprice', 'ccu']\n",
    "new_df = df[selected_columns]\n",
    "\n",
    "# Display the new DataFrame\n",
    "print(new_df)\n",
    "\n",
    "# Calculate ratio and put into the new Dataframe\n",
    "def calculate_ratio(row):\n",
    "    if row['initialprice'] == 0:\n",
    "        return row['ccu']\n",
    "    else:\n",
    "        return row['ccu'] / row['initialprice']\n",
    "\n",
    "# Apply the function to create a new column\n",
    "new_df['ccu_ratio'] = new_df.apply(calculate_ratio, axis=1)\n",
    "\n",
    "# verify\n",
    "new_df"
   ]
  },
  {
   "cell_type": "code",
   "execution_count": 3,
   "id": "1b5c4456",
   "metadata": {},
   "outputs": [
    {
     "ename": "NameError",
     "evalue": "name 'new_df' is not defined",
     "output_type": "error",
     "traceback": [
      "\u001b[1;31m---------------------------------------------------------------------------\u001b[0m",
      "\u001b[1;31mNameError\u001b[0m                                 Traceback (most recent call last)",
      "Cell \u001b[1;32mIn[3], line 2\u001b[0m\n\u001b[0;32m      1\u001b[0m \u001b[38;5;66;03m# Import\u001b[39;00m\n\u001b[1;32m----> 2\u001b[0m new_df\u001b[38;5;241m.\u001b[39mto_csv(\u001b[38;5;124m\"\u001b[39m\u001b[38;5;124mccu_ratio.csv\u001b[39m\u001b[38;5;124m\"\u001b[39m)\n",
      "\u001b[1;31mNameError\u001b[0m: name 'new_df' is not defined"
     ]
    }
   ],
   "source": [
    "# Import\n",
    "new_df.to_csv(\"ccu_ratio.csv\")"
   ]
  },
  {
   "cell_type": "code",
   "execution_count": null,
   "id": "ab895fcc",
   "metadata": {},
   "outputs": [],
   "source": []
  },
  {
   "cell_type": "code",
   "execution_count": null,
   "id": "d1d23339",
   "metadata": {},
   "outputs": [],
   "source": []
  }
 ],
 "metadata": {
  "kernelspec": {
   "display_name": "Python 3 (ipykernel)",
   "language": "python",
   "name": "python3"
  },
  "language_info": {
   "codemirror_mode": {
    "name": "ipython",
    "version": 3
   },
   "file_extension": ".py",
   "mimetype": "text/x-python",
   "name": "python",
   "nbconvert_exporter": "python",
   "pygments_lexer": "ipython3",
   "version": "3.11.4"
  }
 },
 "nbformat": 4,
 "nbformat_minor": 5
}
